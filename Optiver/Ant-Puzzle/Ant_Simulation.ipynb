{
  "nbformat": 4,
  "nbformat_minor": 0,
  "metadata": {
    "colab": {
      "provenance": [],
      "collapsed_sections": []
    },
    "kernelspec": {
      "name": "python3",
      "display_name": "Python 3"
    },
    "language_info": {
      "name": "python"
    }
  },
  "cells": [
    {
      "cell_type": "code",
      "execution_count": 2,
      "metadata": {
        "id": "2T04YAK5wEJC"
      },
      "outputs": [],
      "source": [
        "import numpy as np"
      ]
    },
    {
      "cell_type": "code",
      "source": [
        "class AntRandomWalk():\n",
        "    def __init__(self, simulations_number=10000, x_0=0.0, y_0=0.0, time_increment_size=1, speed=10):\n",
        "        self.simulations_number = simulations_number\n",
        "        self.x_0, self.y_0 = x_0, y_0\n",
        "        self.xy_positions = np.zeros(shape=(simulations_number, 2))\n",
        "        self.xy_positions[:] = np.array([x_0, y_0])\n",
        "        self.time = np.zeros(shape=(simulations_number))\n",
        "        self.time_increment_size = time_increment_size\n",
        "        self.speed = speed\n",
        "        \n",
        "    def random_walk_step(self):\n",
        "        # Generate an array of random numbers between 0 and 3 to indicate the random direction the ants move\n",
        "        random_directions = np.random.randint(low=0, high=4, size=self.simulations_number)\n",
        "        \n",
        "        # update_step represents the 4 possible steps the ant can take (basically move step_size north, south, east or west).\n",
        "        # In conjunction with random_directions it simulates random steps for the ant.\n",
        "        step_size = self.time_increment_size * self.speed\n",
        "        update_step = [np.array([0, step_size]), np.array([0, -step_size]), np.array([step_size, 0]), np.array([-step_size, 0])]\n",
        "\n",
        "        self.xy_positions = np.array([position + update_step[direction] for position, direction in zip(self.xy_positions, random_directions)])\n",
        "    \n",
        "    def random_walk(self, at_boundary, steps):\n",
        "        for i in range(steps):\n",
        "            # Calculate one step of the random walk\n",
        "            self.random_walk_step()\n",
        "            # Update time for each ant which is not at the food already\n",
        "            self.time[~np.isnan(self.xy_positions[:, 0])] += 1\n",
        "            # Flag all ants that have reach the food\n",
        "            for i, position in enumerate(self.xy_positions):\n",
        "              self.xy_positions[i] = np.nan if at_boundary(position) else position\n",
        "    \n",
        "    def simutation(self, at_boundary, steps=1000):\n",
        "        self.random_walk(at_boundary, steps)\n",
        "        # Determine the ants that are at the food\n",
        "        at_food = np.isnan(self.xy_positions[:, 0])\n",
        "        # Calculate statistics for those ants at the food\n",
        "        mean_time = self.time[at_food].mean()\n",
        "        std_time = self.time[at_food].std()\n",
        "        error_time = std_time / np.sqrt(np.sum(at_food))\n",
        "        \n",
        "        print(f\"After {steps} seconds, {np.sum(at_food)/self.simulations_number*100}% of ants have reached the food, and it takes them {mean_time:.2f}±{error_time:.2f} seconds to get to it.\")"
      ],
      "metadata": {
        "id": "ZLDkmyXowU4G"
      },
      "execution_count": 80,
      "outputs": []
    },
    {
      "cell_type": "code",
      "source": [
        "boundary1 = lambda x: abs(x[0]) >= 20 or abs(x[1]) >= 20\n",
        "AntRandomWalk().simutation(boundary1)"
      ],
      "metadata": {
        "colab": {
          "base_uri": "https://localhost:8080/"
        },
        "id": "5YFobeQY3A9O",
        "outputId": "e9cfd75e-376b-4ad8-d285-8eae1ea5750a"
      },
      "execution_count": 81,
      "outputs": [
        {
          "output_type": "stream",
          "name": "stdout",
          "text": [
            "After 1000 seconds, 100.0% of ants have reached the food, and it takes them 4.52±0.03 seconds to get to it.\n"
          ]
        }
      ]
    },
    {
      "cell_type": "code",
      "source": [
        "boundary3 = lambda x: ((x[0] - 2.5)/30)**2 + ((x[1] - 2.5)/40)**2 >= 1\n",
        "AntRandomWalk().simutation(boundary3)"
      ],
      "metadata": {
        "colab": {
          "base_uri": "https://localhost:8080/"
        },
        "id": "WJWLAXO63JHH",
        "outputId": "2a8402dd-a2b9-4e0f-d412-7db95b7c99d0"
      },
      "execution_count": 82,
      "outputs": [
        {
          "output_type": "stream",
          "name": "stdout",
          "text": [
            "After 1000 seconds, 100.0% of ants have reached the food, and it takes them 13.91±0.09 seconds to get to it.\n"
          ]
        }
      ]
    },
    {
      "cell_type": "code",
      "source": [],
      "metadata": {
        "id": "onLJja0GBetL"
      },
      "execution_count": null,
      "outputs": []
    }
  ]
}