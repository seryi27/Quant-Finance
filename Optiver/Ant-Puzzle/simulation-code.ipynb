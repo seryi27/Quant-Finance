class AntRandomWalk():
    def __init__(self, simulations_number=10000, x_0=0.0, y_0=0.0, time_increment_size=1, speed=10):
        self.simulations_number = simulations_number
        self.x_0, self.y_0 = x_0, y_0
        self.xy_positions = np.zeros(shape=(simulations_number, 2))
        self.xy_positions[:] = np.array([x_0, y_0])
        self.time = np.zeros(shape=(simulations_number))
        self.time_increment_size = time_increment_size
        self.speed = speed
        
    def random_walk_step(self):
        # Generate an array of random numbers between 0 and 3 to indicate the random direction the ants move
        random_directions = np.random.randint(low=0, high=4, size=self.simulations_number)
        
        # update_step represents the 4 possible steps the ant can take (basically move step_size north, south, east or west).
        # In conjunction with random_directions it simulates random steps for the ant.
        step_size = self.time_increment_size * self.speed
        update_step = [np.array([0, step_size]), np.array([0, -step_size]), np.array([step_size, 0]), np.array([-step_size, 0])]

        self.xy_positions = np.array([position + update_step[direction] for position, direction in zip(self.xy_positions, random_directions)])
    
    def random_walk(self, at_boundary, steps):
        for i in range(steps):
            # Calculate one step of the random walk
            self.random_walk_step()
            # Update time for each ant which is not at the food already
            self.time[~np.isnan(self.xy_positions[:, 0])] += 1
            # Flag all ants that have reach the food
            for i, position in enumerate(self.xy_positions):
              self.xy_positions[i] = np.nan if at_boundary(position) else position
    
    def simutation(self, at_boundary, steps=1000):
        self.random_walk(at_boundary, steps)
        # Determine the ants that are at the food
        at_food = np.isnan(self.xy_positions[:, 0])
        # Calculate statistics for those ants at the food
        mean_time = self.time[at_food].mean()
        std_time = self.time[at_food].std()
        error_time = std_time / np.sqrt(np.sum(at_food))
        
        print(f"After {steps} seconds, {np.sum(at_food)/self.simulations_number*100}% of ants have reached the food, and it takes them {mean_time:.2f}±{error_time:.2f} seconds to get to it.")

boundary3 = lambda x: ((x[0] - 2.5)/30)**2 + ((x[1] - 2.5)/40)**2 >= 1
AntRandomWalk().simutation(boundary3)
